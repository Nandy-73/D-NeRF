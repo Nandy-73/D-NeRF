{
 "cells": [
  {
   "cell_type": "code",
   "execution_count": 1,
   "metadata": {
    "pycharm": {
     "name": "#%%\n"
    }
   },
   "outputs": [],
   "source": [
    "from run_dnerf import config_parser, create_nerf\n",
    "import matplotlib.pyplot as plt\n",
    "import torch\n",
    "from load_blender import pose_spherical\n",
    "from run_dnerf import render_path\n",
    "from run_dnerf_helpers import to8b"
   ]
  },
  {
   "cell_type": "code",
   "execution_count": 2,
   "metadata": {},
   "outputs": [
    {
     "name": "stdout",
     "output_type": "stream",
     "text": [
      "NeRF type selected: direct_temporal\n",
      "Found ckpts ['./logs/mutant/800000.tar']\n",
      "Reloading from ./logs/mutant/800000.tar\n"
     ]
    }
   ],
   "source": [
    "# set cuda\n",
    "device = torch.device(\"cuda\" if torch.cuda.is_available() else \"cpu\")\n",
    "if device.type == \"cuda\":\n",
    "    torch.set_default_tensor_type('torch.cuda.FloatTensor')\n",
    "else:\n",
    "    torch.set_default_tensor_type('torch.FloatTensor')\n",
    "\n",
    "# get config file\n",
    "config_file = \"configs/mutant.txt\"\n",
    "parser = config_parser()\n",
    "args = parser.parse_args(f'--config {config_file}')\n",
    "\n",
    "# set render params\n",
    "hwf = [400, 400, 555.555]\n",
    "_, render_kwargs_test, _, _, _ = create_nerf(args)\n",
    "render_kwargs_test.update({'near' : 2., 'far' : 6.})"
   ]
  },
  {
   "cell_type": "markdown",
   "metadata": {
    "pycharm": {
     "name": "#%% md\n"
    }
   },
   "source": [
    "## Generate Frame"
   ]
  },
  {
   "cell_type": "code",
   "execution_count": 3,
   "metadata": {
    "pycharm": {
     "name": "#%%\n"
    }
   },
   "outputs": [],
   "source": [
    "def generate_img(time, azimuth, elevation):\n",
    "    assert 0. <= time <= 1.\n",
    "    assert -180 <= azimuth <= 180\n",
    "    assert -180 <= elevation <= 180\n",
    "    \n",
    "    render_poses = torch.unsqueeze(pose_spherical(azimuth, elevation, 4.0), 0).to(device)\n",
    "    render_times = torch.Tensor([time]).to(device)\n",
    "\n",
    "    with torch.no_grad():\n",
    "            rgbs, _ = render_path(render_poses, render_times, hwf, args.chunk, render_kwargs_test, render_factor=args.render_factor)\n",
    "    rgbs = to8b(rgbs)\n",
    "    return rgbs[0]"
   ]
  },
  {
   "cell_type": "code",
   "execution_count": 8,
   "metadata": {
    "pycharm": {
     "name": "#%%\n"
    }
   },
   "outputs": [
    {
     "name": "stderr",
     "output_type": "stream",
     "text": [
      "100%|██████████| 1/1 [00:08<00:00,  8.55s/it]\n"
     ]
    },
    {
     "data": {
      "image/png": "[encoded data removed]",
      "text/plain": [
       "<Figure size 1440x432 with 1 Axes>"
      ]
     },
     "metadata": {
      "needs_background": "light"
     },
     "output_type": "display_data"
    }
   ],
   "source": [
    "# genearte\n",
    "time = .5  # in [0,1]\n",
    "azimuth = 180  # in [-180,180]\n",
    "elevation = -20  # in [-180,180]\n",
    "img = generate_img(time, azimuth, elevation)\n",
    "\n",
    "# display\n",
    "plt.figure(2, figsize=(20,6))\n",
    "plt.imshow(img)\n",
    "plt.show()"
   ]
  },
  {
   "cell_type": "code",
   "execution_count": null,
   "metadata": {},
   "outputs": [],
   "source": []
  }
 ],
 "metadata": {
  "kernelspec": {
   "display_name": "dnerf",
   "language": "python",
   "name": "python3"
  },
  "language_info": {
   "codemirror_mode": {
    "name": "ipython",
    "version": 3
   },
   "file_extension": ".py",
   "mimetype": "text/x-python",
   "name": "python",
   "nbconvert_exporter": "python",
   "pygments_lexer": "ipython3",
   "version": "3.6.13"
  }
 },
 "nbformat": 4,
 "nbformat_minor": 1
}
